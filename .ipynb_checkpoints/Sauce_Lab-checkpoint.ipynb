{
 "cells": [
  {
   "cell_type": "markdown",
   "metadata": {},
   "source": [
    "## Sauce Labs Coding Challenge\n"
   ]
  },
  {
   "cell_type": "code",
   "execution_count": 2,
   "metadata": {},
   "outputs": [],
   "source": [
    "import matplotlib.pyplot as plt\n",
    "import pandas as pd\n",
    "import sklearn as sk\n",
    "import numpy as np\n",
    "from scipy import stats\n",
    "import seaborn as sns\n",
    "%matplotlib inline\n"
   ]
  },
  {
   "cell_type": "code",
   "execution_count": 3,
   "metadata": {},
   "outputs": [
    {
     "data": {
      "text/html": [
       "<div>\n",
       "<style scoped>\n",
       "    .dataframe tbody tr th:only-of-type {\n",
       "        vertical-align: middle;\n",
       "    }\n",
       "\n",
       "    .dataframe tbody tr th {\n",
       "        vertical-align: top;\n",
       "    }\n",
       "\n",
       "    .dataframe thead th {\n",
       "        text-align: right;\n",
       "    }\n",
       "</style>\n",
       "<table border=\"1\" class=\"dataframe\">\n",
       "  <thead>\n",
       "    <tr style=\"text-align: right;\">\n",
       "      <th></th>\n",
       "      <th>username</th>\n",
       "      <th>trial_start_time</th>\n",
       "      <th>trial_end_time</th>\n",
       "      <th>is_banned</th>\n",
       "      <th>is_upgrade</th>\n",
       "      <th>upgrade_time</th>\n",
       "      <th>monthly_price</th>\n",
       "      <th>subscription_months</th>\n",
       "      <th>spam_score</th>\n",
       "      <th>trial_used_days</th>\n",
       "      <th>job_count</th>\n",
       "      <th>manual_jobs</th>\n",
       "      <th>auto_jobs</th>\n",
       "      <th>minutes</th>\n",
       "    </tr>\n",
       "  </thead>\n",
       "  <tbody>\n",
       "    <tr>\n",
       "      <th>0</th>\n",
       "      <td>2</td>\n",
       "      <td>10/12/17 15:48</td>\n",
       "      <td>10/26/17 15:48</td>\n",
       "      <td>False</td>\n",
       "      <td>False</td>\n",
       "      <td>NaN</td>\n",
       "      <td>NaN</td>\n",
       "      <td>NaN</td>\n",
       "      <td>0.270446</td>\n",
       "      <td>4</td>\n",
       "      <td>677</td>\n",
       "      <td>5</td>\n",
       "      <td>672</td>\n",
       "      <td>148.316667</td>\n",
       "    </tr>\n",
       "    <tr>\n",
       "      <th>1</th>\n",
       "      <td>3</td>\n",
       "      <td>3/8/18 04:07</td>\n",
       "      <td>3/8/18 04:08</td>\n",
       "      <td>True</td>\n",
       "      <td>False</td>\n",
       "      <td>NaN</td>\n",
       "      <td>NaN</td>\n",
       "      <td>NaN</td>\n",
       "      <td>0.956969</td>\n",
       "      <td>1</td>\n",
       "      <td>1</td>\n",
       "      <td>1</td>\n",
       "      <td>0</td>\n",
       "      <td>1.066667</td>\n",
       "    </tr>\n",
       "    <tr>\n",
       "      <th>2</th>\n",
       "      <td>4</td>\n",
       "      <td>2/26/17 12:52</td>\n",
       "      <td>3/12/17 12:52</td>\n",
       "      <td>False</td>\n",
       "      <td>False</td>\n",
       "      <td>NaN</td>\n",
       "      <td>NaN</td>\n",
       "      <td>NaN</td>\n",
       "      <td>0.250976</td>\n",
       "      <td>1</td>\n",
       "      <td>1</td>\n",
       "      <td>1</td>\n",
       "      <td>0</td>\n",
       "      <td>11.466667</td>\n",
       "    </tr>\n",
       "    <tr>\n",
       "      <th>3</th>\n",
       "      <td>5</td>\n",
       "      <td>4/25/18 22:04</td>\n",
       "      <td>5/9/18 22:04</td>\n",
       "      <td>False</td>\n",
       "      <td>False</td>\n",
       "      <td>NaN</td>\n",
       "      <td>NaN</td>\n",
       "      <td>NaN</td>\n",
       "      <td>0.791360</td>\n",
       "      <td>1</td>\n",
       "      <td>5</td>\n",
       "      <td>5</td>\n",
       "      <td>0</td>\n",
       "      <td>48.983333</td>\n",
       "    </tr>\n",
       "    <tr>\n",
       "      <th>4</th>\n",
       "      <td>6</td>\n",
       "      <td>3/16/18 20:20</td>\n",
       "      <td>3/30/18 20:20</td>\n",
       "      <td>False</td>\n",
       "      <td>False</td>\n",
       "      <td>NaN</td>\n",
       "      <td>NaN</td>\n",
       "      <td>NaN</td>\n",
       "      <td>0.519702</td>\n",
       "      <td>1</td>\n",
       "      <td>6</td>\n",
       "      <td>6</td>\n",
       "      <td>0</td>\n",
       "      <td>83.383333</td>\n",
       "    </tr>\n",
       "  </tbody>\n",
       "</table>\n",
       "</div>"
      ],
      "text/plain": [
       "   username trial_start_time  trial_end_time  is_banned  is_upgrade  \\\n",
       "0         2   10/12/17 15:48  10/26/17 15:48      False       False   \n",
       "1         3     3/8/18 04:07    3/8/18 04:08       True       False   \n",
       "2         4    2/26/17 12:52   3/12/17 12:52      False       False   \n",
       "3         5    4/25/18 22:04    5/9/18 22:04      False       False   \n",
       "4         6    3/16/18 20:20   3/30/18 20:20      False       False   \n",
       "\n",
       "  upgrade_time  monthly_price  subscription_months  spam_score  \\\n",
       "0          NaN            NaN                  NaN    0.270446   \n",
       "1          NaN            NaN                  NaN    0.956969   \n",
       "2          NaN            NaN                  NaN    0.250976   \n",
       "3          NaN            NaN                  NaN    0.791360   \n",
       "4          NaN            NaN                  NaN    0.519702   \n",
       "\n",
       "   trial_used_days  job_count  manual_jobs  auto_jobs     minutes  \n",
       "0                4        677            5        672  148.316667  \n",
       "1                1          1            1          0    1.066667  \n",
       "2                1          1            1          0   11.466667  \n",
       "3                1          5            5          0   48.983333  \n",
       "4                1          6            6          0   83.383333  "
      ]
     },
     "execution_count": 3,
     "metadata": {},
     "output_type": "execute_result"
    }
   ],
   "source": [
    "df = pd.read_csv('free_trial.csv')\n",
    "df.head()"
   ]
  },
  {
   "cell_type": "code",
   "execution_count": 4,
   "metadata": {},
   "outputs": [],
   "source": [
    "from datetime import datetime\n",
    "\n",
    "df['trial_start_time'] = pd.to_datetime(df['trial_start_time'])\n",
    "df['trial_end_time'] = pd.to_datetime(df['trial_end_time'])\n",
    "\n",
    "df['days'] = df['trial_end_time'] - df['trial_start_time']\n",
    "df['days'] = df['days'].apply(lambda x: x.days)\n",
    "#maybe the duration of the trail has some impact\n",
    "\n",
    "df['year_ago'] = df['trial_start_time'].apply(lambda x: 2020 - x.year)\n",
    "#maybe the demand is going up with time"
   ]
  },
  {
   "cell_type": "code",
   "execution_count": 5,
   "metadata": {},
   "outputs": [
    {
     "data": {
      "text/html": [
       "<div>\n",
       "<style scoped>\n",
       "    .dataframe tbody tr th:only-of-type {\n",
       "        vertical-align: middle;\n",
       "    }\n",
       "\n",
       "    .dataframe tbody tr th {\n",
       "        vertical-align: top;\n",
       "    }\n",
       "\n",
       "    .dataframe thead th {\n",
       "        text-align: right;\n",
       "    }\n",
       "</style>\n",
       "<table border=\"1\" class=\"dataframe\">\n",
       "  <thead>\n",
       "    <tr style=\"text-align: right;\">\n",
       "      <th></th>\n",
       "      <th>username</th>\n",
       "      <th>monthly_price</th>\n",
       "      <th>subscription_months</th>\n",
       "      <th>spam_score</th>\n",
       "      <th>trial_used_days</th>\n",
       "      <th>job_count</th>\n",
       "      <th>manual_jobs</th>\n",
       "      <th>auto_jobs</th>\n",
       "      <th>minutes</th>\n",
       "      <th>days</th>\n",
       "      <th>year_ago</th>\n",
       "    </tr>\n",
       "  </thead>\n",
       "  <tbody>\n",
       "    <tr>\n",
       "      <th>count</th>\n",
       "      <td>30666.000000</td>\n",
       "      <td>281.000000</td>\n",
       "      <td>281.000000</td>\n",
       "      <td>30532.000000</td>\n",
       "      <td>30666.000000</td>\n",
       "      <td>30666.000000</td>\n",
       "      <td>30666.000000</td>\n",
       "      <td>30666.000000</td>\n",
       "      <td>30666.000000</td>\n",
       "      <td>30666.000000</td>\n",
       "      <td>30666.000000</td>\n",
       "    </tr>\n",
       "    <tr>\n",
       "      <th>mean</th>\n",
       "      <td>15334.500000</td>\n",
       "      <td>96.199288</td>\n",
       "      <td>6.395018</td>\n",
       "      <td>0.665844</td>\n",
       "      <td>1.349410</td>\n",
       "      <td>13.445151</td>\n",
       "      <td>8.235896</td>\n",
       "      <td>5.209255</td>\n",
       "      <td>81.723549</td>\n",
       "      <td>12.477141</td>\n",
       "      <td>2.421607</td>\n",
       "    </tr>\n",
       "    <tr>\n",
       "      <th>std</th>\n",
       "      <td>8852.656014</td>\n",
       "      <td>153.145692</td>\n",
       "      <td>7.410695</td>\n",
       "      <td>0.217382</td>\n",
       "      <td>1.248055</td>\n",
       "      <td>104.447522</td>\n",
       "      <td>74.244412</td>\n",
       "      <td>73.944781</td>\n",
       "      <td>814.142386</td>\n",
       "      <td>4.314456</td>\n",
       "      <td>0.619327</td>\n",
       "    </tr>\n",
       "    <tr>\n",
       "      <th>min</th>\n",
       "      <td>2.000000</td>\n",
       "      <td>19.000000</td>\n",
       "      <td>0.000000</td>\n",
       "      <td>0.000000</td>\n",
       "      <td>0.000000</td>\n",
       "      <td>0.000000</td>\n",
       "      <td>0.000000</td>\n",
       "      <td>0.000000</td>\n",
       "      <td>0.000000</td>\n",
       "      <td>0.000000</td>\n",
       "      <td>1.000000</td>\n",
       "    </tr>\n",
       "    <tr>\n",
       "      <th>25%</th>\n",
       "      <td>7668.250000</td>\n",
       "      <td>19.000000</td>\n",
       "      <td>1.000000</td>\n",
       "      <td>0.522403</td>\n",
       "      <td>1.000000</td>\n",
       "      <td>1.000000</td>\n",
       "      <td>1.000000</td>\n",
       "      <td>0.000000</td>\n",
       "      <td>6.004167</td>\n",
       "      <td>14.000000</td>\n",
       "      <td>2.000000</td>\n",
       "    </tr>\n",
       "    <tr>\n",
       "      <th>50%</th>\n",
       "      <td>15334.500000</td>\n",
       "      <td>29.000000</td>\n",
       "      <td>3.000000</td>\n",
       "      <td>0.728916</td>\n",
       "      <td>1.000000</td>\n",
       "      <td>2.000000</td>\n",
       "      <td>2.000000</td>\n",
       "      <td>0.000000</td>\n",
       "      <td>17.716667</td>\n",
       "      <td>14.000000</td>\n",
       "      <td>2.000000</td>\n",
       "    </tr>\n",
       "    <tr>\n",
       "      <th>75%</th>\n",
       "      <td>23000.750000</td>\n",
       "      <td>149.000000</td>\n",
       "      <td>11.000000</td>\n",
       "      <td>0.813750</td>\n",
       "      <td>1.000000</td>\n",
       "      <td>6.000000</td>\n",
       "      <td>5.000000</td>\n",
       "      <td>0.000000</td>\n",
       "      <td>48.650000</td>\n",
       "      <td>14.000000</td>\n",
       "      <td>3.000000</td>\n",
       "    </tr>\n",
       "    <tr>\n",
       "      <th>max</th>\n",
       "      <td>30667.000000</td>\n",
       "      <td>1599.000000</td>\n",
       "      <td>29.000000</td>\n",
       "      <td>1.000000</td>\n",
       "      <td>15.000000</td>\n",
       "      <td>7320.000000</td>\n",
       "      <td>7320.000000</td>\n",
       "      <td>5695.000000</td>\n",
       "      <td>76092.383330</td>\n",
       "      <td>29.000000</td>\n",
       "      <td>3.000000</td>\n",
       "    </tr>\n",
       "  </tbody>\n",
       "</table>\n",
       "</div>"
      ],
      "text/plain": [
       "           username  monthly_price  subscription_months    spam_score  \\\n",
       "count  30666.000000     281.000000           281.000000  30532.000000   \n",
       "mean   15334.500000      96.199288             6.395018      0.665844   \n",
       "std     8852.656014     153.145692             7.410695      0.217382   \n",
       "min        2.000000      19.000000             0.000000      0.000000   \n",
       "25%     7668.250000      19.000000             1.000000      0.522403   \n",
       "50%    15334.500000      29.000000             3.000000      0.728916   \n",
       "75%    23000.750000     149.000000            11.000000      0.813750   \n",
       "max    30667.000000    1599.000000            29.000000      1.000000   \n",
       "\n",
       "       trial_used_days     job_count   manual_jobs     auto_jobs  \\\n",
       "count     30666.000000  30666.000000  30666.000000  30666.000000   \n",
       "mean          1.349410     13.445151      8.235896      5.209255   \n",
       "std           1.248055    104.447522     74.244412     73.944781   \n",
       "min           0.000000      0.000000      0.000000      0.000000   \n",
       "25%           1.000000      1.000000      1.000000      0.000000   \n",
       "50%           1.000000      2.000000      2.000000      0.000000   \n",
       "75%           1.000000      6.000000      5.000000      0.000000   \n",
       "max          15.000000   7320.000000   7320.000000   5695.000000   \n",
       "\n",
       "            minutes          days      year_ago  \n",
       "count  30666.000000  30666.000000  30666.000000  \n",
       "mean      81.723549     12.477141      2.421607  \n",
       "std      814.142386      4.314456      0.619327  \n",
       "min        0.000000      0.000000      1.000000  \n",
       "25%        6.004167     14.000000      2.000000  \n",
       "50%       17.716667     14.000000      2.000000  \n",
       "75%       48.650000     14.000000      3.000000  \n",
       "max    76092.383330     29.000000      3.000000  "
      ]
     },
     "execution_count": 5,
     "metadata": {},
     "output_type": "execute_result"
    }
   ],
   "source": [
    "df.describe()"
   ]
  },
  {
   "cell_type": "code",
   "execution_count": 6,
   "metadata": {},
   "outputs": [
    {
     "name": "stdout",
     "output_type": "stream",
     "text": [
      "<class 'pandas.core.frame.DataFrame'>\n",
      "RangeIndex: 30666 entries, 0 to 30665\n",
      "Data columns (total 16 columns):\n",
      " #   Column               Non-Null Count  Dtype         \n",
      "---  ------               --------------  -----         \n",
      " 0   username             30666 non-null  int64         \n",
      " 1   trial_start_time     30666 non-null  datetime64[ns]\n",
      " 2   trial_end_time       30666 non-null  datetime64[ns]\n",
      " 3   is_banned            30666 non-null  bool          \n",
      " 4   is_upgrade           30666 non-null  bool          \n",
      " 5   upgrade_time         281 non-null    object        \n",
      " 6   monthly_price        281 non-null    float64       \n",
      " 7   subscription_months  281 non-null    float64       \n",
      " 8   spam_score           30532 non-null  float64       \n",
      " 9   trial_used_days      30666 non-null  int64         \n",
      " 10  job_count            30666 non-null  int64         \n",
      " 11  manual_jobs          30666 non-null  int64         \n",
      " 12  auto_jobs            30666 non-null  int64         \n",
      " 13  minutes              30666 non-null  float64       \n",
      " 14  days                 30666 non-null  int64         \n",
      " 15  year_ago             30666 non-null  int64         \n",
      "dtypes: bool(2), datetime64[ns](2), float64(4), int64(7), object(1)\n",
      "memory usage: 3.3+ MB\n"
     ]
    }
   ],
   "source": [
    "df.info()"
   ]
  },
  {
   "cell_type": "code",
   "execution_count": 7,
   "metadata": {},
   "outputs": [
    {
     "data": {
      "text/html": [
       "<div>\n",
       "<style scoped>\n",
       "    .dataframe tbody tr th:only-of-type {\n",
       "        vertical-align: middle;\n",
       "    }\n",
       "\n",
       "    .dataframe tbody tr th {\n",
       "        vertical-align: top;\n",
       "    }\n",
       "\n",
       "    .dataframe thead th {\n",
       "        text-align: right;\n",
       "    }\n",
       "</style>\n",
       "<table border=\"1\" class=\"dataframe\">\n",
       "  <thead>\n",
       "    <tr style=\"text-align: right;\">\n",
       "      <th></th>\n",
       "      <th>username</th>\n",
       "      <th>monthly_price</th>\n",
       "      <th>subscription_months</th>\n",
       "      <th>spam_score</th>\n",
       "      <th>trial_used_days</th>\n",
       "      <th>job_count</th>\n",
       "      <th>manual_jobs</th>\n",
       "      <th>auto_jobs</th>\n",
       "      <th>minutes</th>\n",
       "      <th>days</th>\n",
       "      <th>year_ago</th>\n",
       "    </tr>\n",
       "  </thead>\n",
       "  <tbody>\n",
       "    <tr>\n",
       "      <th>count</th>\n",
       "      <td>30666.000000</td>\n",
       "      <td>281.000000</td>\n",
       "      <td>281.000000</td>\n",
       "      <td>30532.000000</td>\n",
       "      <td>30666.000000</td>\n",
       "      <td>30666.000000</td>\n",
       "      <td>30666.000000</td>\n",
       "      <td>30666.000000</td>\n",
       "      <td>30666.000000</td>\n",
       "      <td>30666.000000</td>\n",
       "      <td>30666.000000</td>\n",
       "    </tr>\n",
       "    <tr>\n",
       "      <th>mean</th>\n",
       "      <td>15334.500000</td>\n",
       "      <td>96.199288</td>\n",
       "      <td>6.395018</td>\n",
       "      <td>0.665844</td>\n",
       "      <td>1.349410</td>\n",
       "      <td>13.445151</td>\n",
       "      <td>8.235896</td>\n",
       "      <td>5.209255</td>\n",
       "      <td>81.723549</td>\n",
       "      <td>12.477141</td>\n",
       "      <td>2.421607</td>\n",
       "    </tr>\n",
       "    <tr>\n",
       "      <th>std</th>\n",
       "      <td>8852.656014</td>\n",
       "      <td>153.145692</td>\n",
       "      <td>7.410695</td>\n",
       "      <td>0.217382</td>\n",
       "      <td>1.248055</td>\n",
       "      <td>104.447522</td>\n",
       "      <td>74.244412</td>\n",
       "      <td>73.944781</td>\n",
       "      <td>814.142386</td>\n",
       "      <td>4.314456</td>\n",
       "      <td>0.619327</td>\n",
       "    </tr>\n",
       "    <tr>\n",
       "      <th>min</th>\n",
       "      <td>2.000000</td>\n",
       "      <td>19.000000</td>\n",
       "      <td>0.000000</td>\n",
       "      <td>0.000000</td>\n",
       "      <td>0.000000</td>\n",
       "      <td>0.000000</td>\n",
       "      <td>0.000000</td>\n",
       "      <td>0.000000</td>\n",
       "      <td>0.000000</td>\n",
       "      <td>0.000000</td>\n",
       "      <td>1.000000</td>\n",
       "    </tr>\n",
       "    <tr>\n",
       "      <th>25%</th>\n",
       "      <td>7668.250000</td>\n",
       "      <td>19.000000</td>\n",
       "      <td>1.000000</td>\n",
       "      <td>0.522403</td>\n",
       "      <td>1.000000</td>\n",
       "      <td>1.000000</td>\n",
       "      <td>1.000000</td>\n",
       "      <td>0.000000</td>\n",
       "      <td>6.004167</td>\n",
       "      <td>14.000000</td>\n",
       "      <td>2.000000</td>\n",
       "    </tr>\n",
       "    <tr>\n",
       "      <th>50%</th>\n",
       "      <td>15334.500000</td>\n",
       "      <td>29.000000</td>\n",
       "      <td>3.000000</td>\n",
       "      <td>0.728916</td>\n",
       "      <td>1.000000</td>\n",
       "      <td>2.000000</td>\n",
       "      <td>2.000000</td>\n",
       "      <td>0.000000</td>\n",
       "      <td>17.716667</td>\n",
       "      <td>14.000000</td>\n",
       "      <td>2.000000</td>\n",
       "    </tr>\n",
       "    <tr>\n",
       "      <th>75%</th>\n",
       "      <td>23000.750000</td>\n",
       "      <td>149.000000</td>\n",
       "      <td>11.000000</td>\n",
       "      <td>0.813750</td>\n",
       "      <td>1.000000</td>\n",
       "      <td>6.000000</td>\n",
       "      <td>5.000000</td>\n",
       "      <td>0.000000</td>\n",
       "      <td>48.650000</td>\n",
       "      <td>14.000000</td>\n",
       "      <td>3.000000</td>\n",
       "    </tr>\n",
       "    <tr>\n",
       "      <th>max</th>\n",
       "      <td>30667.000000</td>\n",
       "      <td>1599.000000</td>\n",
       "      <td>29.000000</td>\n",
       "      <td>1.000000</td>\n",
       "      <td>15.000000</td>\n",
       "      <td>7320.000000</td>\n",
       "      <td>7320.000000</td>\n",
       "      <td>5695.000000</td>\n",
       "      <td>76092.383330</td>\n",
       "      <td>29.000000</td>\n",
       "      <td>3.000000</td>\n",
       "    </tr>\n",
       "  </tbody>\n",
       "</table>\n",
       "</div>"
      ],
      "text/plain": [
       "           username  monthly_price  subscription_months    spam_score  \\\n",
       "count  30666.000000     281.000000           281.000000  30532.000000   \n",
       "mean   15334.500000      96.199288             6.395018      0.665844   \n",
       "std     8852.656014     153.145692             7.410695      0.217382   \n",
       "min        2.000000      19.000000             0.000000      0.000000   \n",
       "25%     7668.250000      19.000000             1.000000      0.522403   \n",
       "50%    15334.500000      29.000000             3.000000      0.728916   \n",
       "75%    23000.750000     149.000000            11.000000      0.813750   \n",
       "max    30667.000000    1599.000000            29.000000      1.000000   \n",
       "\n",
       "       trial_used_days     job_count   manual_jobs     auto_jobs  \\\n",
       "count     30666.000000  30666.000000  30666.000000  30666.000000   \n",
       "mean          1.349410     13.445151      8.235896      5.209255   \n",
       "std           1.248055    104.447522     74.244412     73.944781   \n",
       "min           0.000000      0.000000      0.000000      0.000000   \n",
       "25%           1.000000      1.000000      1.000000      0.000000   \n",
       "50%           1.000000      2.000000      2.000000      0.000000   \n",
       "75%           1.000000      6.000000      5.000000      0.000000   \n",
       "max          15.000000   7320.000000   7320.000000   5695.000000   \n",
       "\n",
       "            minutes          days      year_ago  \n",
       "count  30666.000000  30666.000000  30666.000000  \n",
       "mean      81.723549     12.477141      2.421607  \n",
       "std      814.142386      4.314456      0.619327  \n",
       "min        0.000000      0.000000      1.000000  \n",
       "25%        6.004167     14.000000      2.000000  \n",
       "50%       17.716667     14.000000      2.000000  \n",
       "75%       48.650000     14.000000      3.000000  \n",
       "max    76092.383330     29.000000      3.000000  "
      ]
     },
     "execution_count": 7,
     "metadata": {},
     "output_type": "execute_result"
    }
   ],
   "source": [
    "df.describe()"
   ]
  },
  {
   "cell_type": "markdown",
   "metadata": {},
   "source": [
    "We should look into why spam score is nan for some rows."
   ]
  },
  {
   "cell_type": "code",
   "execution_count": 8,
   "metadata": {},
   "outputs": [],
   "source": [
    "df_spam_score_is_nan = df[df['spam_score'].isnull()]"
   ]
  },
  {
   "cell_type": "code",
   "execution_count": 9,
   "metadata": {},
   "outputs": [],
   "source": [
    "df = df[df['spam_score'].notna()]"
   ]
  },
  {
   "cell_type": "code",
   "execution_count": 11,
   "metadata": {},
   "outputs": [
    {
     "name": "stderr",
     "output_type": "stream",
     "text": [
      "C:\\ProgramData\\Anaconda3\\lib\\site-packages\\ipykernel_launcher.py:5: SettingWithCopyWarning: \n",
      "A value is trying to be set on a copy of a slice from a DataFrame.\n",
      "Try using .loc[row_indexer,col_indexer] = value instead\n",
      "\n",
      "See the caveats in the documentation: https://pandas.pydata.org/pandas-docs/stable/user_guide/indexing.html#returning-a-view-versus-a-copy\n",
      "  \"\"\"\n"
     ]
    }
   ],
   "source": [
    "upgared_info = df.iloc[:,5:8]\n",
    "X = df.iloc[:, [3,8,9,10,11,12,13,14,15]]\n",
    "y = df.iloc[:,4:5]\n",
    "\n",
    "X[\"is_banned\"] = df[\"is_banned\"].astype(int)\n",
    "y['is_upgrade'] = df[\"is_upgrade\"].astype(int)\n",
    "\n",
    "newdf = X.copy()\n",
    "newdf['is_upgrade'] = y"
   ]
  },
  {
   "cell_type": "code",
   "execution_count": 12,
   "metadata": {},
   "outputs": [
    {
     "data": {
      "text/html": [
       "<div>\n",
       "<style scoped>\n",
       "    .dataframe tbody tr th:only-of-type {\n",
       "        vertical-align: middle;\n",
       "    }\n",
       "\n",
       "    .dataframe tbody tr th {\n",
       "        vertical-align: top;\n",
       "    }\n",
       "\n",
       "    .dataframe thead th {\n",
       "        text-align: right;\n",
       "    }\n",
       "</style>\n",
       "<table border=\"1\" class=\"dataframe\">\n",
       "  <thead>\n",
       "    <tr style=\"text-align: right;\">\n",
       "      <th></th>\n",
       "      <th>is_banned</th>\n",
       "      <th>spam_score</th>\n",
       "      <th>trial_used_days</th>\n",
       "      <th>job_count</th>\n",
       "      <th>manual_jobs</th>\n",
       "      <th>auto_jobs</th>\n",
       "      <th>minutes</th>\n",
       "      <th>days</th>\n",
       "      <th>year_ago</th>\n",
       "      <th>is_upgrade</th>\n",
       "    </tr>\n",
       "  </thead>\n",
       "  <tbody>\n",
       "    <tr>\n",
       "      <th>0</th>\n",
       "      <td>0</td>\n",
       "      <td>0.270446</td>\n",
       "      <td>4</td>\n",
       "      <td>677</td>\n",
       "      <td>5</td>\n",
       "      <td>672</td>\n",
       "      <td>148.316667</td>\n",
       "      <td>14</td>\n",
       "      <td>3</td>\n",
       "      <td>0</td>\n",
       "    </tr>\n",
       "    <tr>\n",
       "      <th>1</th>\n",
       "      <td>1</td>\n",
       "      <td>0.956969</td>\n",
       "      <td>1</td>\n",
       "      <td>1</td>\n",
       "      <td>1</td>\n",
       "      <td>0</td>\n",
       "      <td>1.066667</td>\n",
       "      <td>0</td>\n",
       "      <td>2</td>\n",
       "      <td>0</td>\n",
       "    </tr>\n",
       "    <tr>\n",
       "      <th>2</th>\n",
       "      <td>0</td>\n",
       "      <td>0.250976</td>\n",
       "      <td>1</td>\n",
       "      <td>1</td>\n",
       "      <td>1</td>\n",
       "      <td>0</td>\n",
       "      <td>11.466667</td>\n",
       "      <td>14</td>\n",
       "      <td>3</td>\n",
       "      <td>0</td>\n",
       "    </tr>\n",
       "    <tr>\n",
       "      <th>3</th>\n",
       "      <td>0</td>\n",
       "      <td>0.791360</td>\n",
       "      <td>1</td>\n",
       "      <td>5</td>\n",
       "      <td>5</td>\n",
       "      <td>0</td>\n",
       "      <td>48.983333</td>\n",
       "      <td>14</td>\n",
       "      <td>2</td>\n",
       "      <td>0</td>\n",
       "    </tr>\n",
       "    <tr>\n",
       "      <th>4</th>\n",
       "      <td>0</td>\n",
       "      <td>0.519702</td>\n",
       "      <td>1</td>\n",
       "      <td>6</td>\n",
       "      <td>6</td>\n",
       "      <td>0</td>\n",
       "      <td>83.383333</td>\n",
       "      <td>14</td>\n",
       "      <td>2</td>\n",
       "      <td>0</td>\n",
       "    </tr>\n",
       "    <tr>\n",
       "      <th>...</th>\n",
       "      <td>...</td>\n",
       "      <td>...</td>\n",
       "      <td>...</td>\n",
       "      <td>...</td>\n",
       "      <td>...</td>\n",
       "      <td>...</td>\n",
       "      <td>...</td>\n",
       "      <td>...</td>\n",
       "      <td>...</td>\n",
       "      <td>...</td>\n",
       "    </tr>\n",
       "    <tr>\n",
       "      <th>30661</th>\n",
       "      <td>0</td>\n",
       "      <td>0.253930</td>\n",
       "      <td>2</td>\n",
       "      <td>30</td>\n",
       "      <td>0</td>\n",
       "      <td>30</td>\n",
       "      <td>17.116667</td>\n",
       "      <td>0</td>\n",
       "      <td>3</td>\n",
       "      <td>1</td>\n",
       "    </tr>\n",
       "    <tr>\n",
       "      <th>30662</th>\n",
       "      <td>0</td>\n",
       "      <td>0.549506</td>\n",
       "      <td>2</td>\n",
       "      <td>86</td>\n",
       "      <td>83</td>\n",
       "      <td>3</td>\n",
       "      <td>6.000000</td>\n",
       "      <td>14</td>\n",
       "      <td>2</td>\n",
       "      <td>1</td>\n",
       "    </tr>\n",
       "    <tr>\n",
       "      <th>30663</th>\n",
       "      <td>0</td>\n",
       "      <td>0.640820</td>\n",
       "      <td>1</td>\n",
       "      <td>70</td>\n",
       "      <td>70</td>\n",
       "      <td>0</td>\n",
       "      <td>86.466667</td>\n",
       "      <td>5</td>\n",
       "      <td>3</td>\n",
       "      <td>1</td>\n",
       "    </tr>\n",
       "    <tr>\n",
       "      <th>30664</th>\n",
       "      <td>0</td>\n",
       "      <td>0.453295</td>\n",
       "      <td>2</td>\n",
       "      <td>59</td>\n",
       "      <td>59</td>\n",
       "      <td>0</td>\n",
       "      <td>16.600000</td>\n",
       "      <td>14</td>\n",
       "      <td>3</td>\n",
       "      <td>1</td>\n",
       "    </tr>\n",
       "    <tr>\n",
       "      <th>30665</th>\n",
       "      <td>0</td>\n",
       "      <td>0.539299</td>\n",
       "      <td>3</td>\n",
       "      <td>18</td>\n",
       "      <td>18</td>\n",
       "      <td>0</td>\n",
       "      <td>183.116667</td>\n",
       "      <td>14</td>\n",
       "      <td>3</td>\n",
       "      <td>1</td>\n",
       "    </tr>\n",
       "  </tbody>\n",
       "</table>\n",
       "<p>30532 rows × 10 columns</p>\n",
       "</div>"
      ],
      "text/plain": [
       "       is_banned  spam_score  trial_used_days  job_count  manual_jobs  \\\n",
       "0              0    0.270446                4        677            5   \n",
       "1              1    0.956969                1          1            1   \n",
       "2              0    0.250976                1          1            1   \n",
       "3              0    0.791360                1          5            5   \n",
       "4              0    0.519702                1          6            6   \n",
       "...          ...         ...              ...        ...          ...   \n",
       "30661          0    0.253930                2         30            0   \n",
       "30662          0    0.549506                2         86           83   \n",
       "30663          0    0.640820                1         70           70   \n",
       "30664          0    0.453295                2         59           59   \n",
       "30665          0    0.539299                3         18           18   \n",
       "\n",
       "       auto_jobs     minutes  days  year_ago  is_upgrade  \n",
       "0            672  148.316667    14         3           0  \n",
       "1              0    1.066667     0         2           0  \n",
       "2              0   11.466667    14         3           0  \n",
       "3              0   48.983333    14         2           0  \n",
       "4              0   83.383333    14         2           0  \n",
       "...          ...         ...   ...       ...         ...  \n",
       "30661         30   17.116667     0         3           1  \n",
       "30662          3    6.000000    14         2           1  \n",
       "30663          0   86.466667     5         3           1  \n",
       "30664          0   16.600000    14         3           1  \n",
       "30665          0  183.116667    14         3           1  \n",
       "\n",
       "[30532 rows x 10 columns]"
      ]
     },
     "execution_count": 12,
     "metadata": {},
     "output_type": "execute_result"
    }
   ],
   "source": [
    "newdf"
   ]
  },
  {
   "cell_type": "markdown",
   "metadata": {},
   "source": [
    "Let's go some general visualization, to get an idea of the data."
   ]
  },
  {
   "cell_type": "code",
   "execution_count": 13,
   "metadata": {},
   "outputs": [
    {
     "data": {
      "image/png": "[encoded data removed]",
      "text/plain": [
       "<Figure size 432x288 with 1 Axes>"
      ]
     },
     "metadata": {},
     "output_type": "display_data"
    }
   ],
   "source": [
    "with plt.xkcd():\n",
    "    # Based on \"The Data So Far\" from XKCD by Randall Munroe\n",
    "    # https://xkcd.com/373/\n",
    "\n",
    "    fig = plt.figure()\n",
    "    ax = fig.add_axes((0, 0, 0.5, 0.5))\n",
    "    \n",
    "    ax.spines['right'].set_color('none')\n",
    "    ax.spines['top'].set_color('none')\n",
    "    ax.xaxis.set_ticks_position('bottom')\n",
    "    ax.set_xticks([0, 1])\n",
    "    ax.set_xticklabels(['Did NOT Upgrade', 'Did Upgrade'])\n",
    "    ax.set_xlim([-0.5, 1.5])\n",
    "    ax.set_yticks(list(range(0, len(y), 10000)))\n",
    "    ax.set_ylim([0, len(y)])\n",
    "    \n",
    "    ax.bar([0, 1], [0, int(y.isin([0]).sum())], 0.25)\n",
    "    ax.bar([0, 0.01], [0, int(y.isin([1]).sum())], 0.25)\n",
    "\n",
    "    ax.set_title(\"Number of Users Upgraded vs Not Upgraded\")\n",
    "\n",
    "plt.show()"
   ]
  },
  {
   "cell_type": "code",
   "execution_count": 14,
   "metadata": {},
   "outputs": [
    {
     "name": "stdout",
     "output_type": "stream",
     "text": [
      "Percentage of People that Upgraded: 0.91 %\n",
      "Percentage of People that DID NOT Upgraded: 99.09 %\n"
     ]
    }
   ],
   "source": [
    "p_upgraded = int(y.isin([1]).sum()) / len(y) *100\n",
    "print(\"Percentage of People that Upgraded: {:0.2f} %\".format(p_upgraded))\n",
    "\n",
    "p_no_upgraded = int(y.isin([0]).sum()) / len(y) *100\n",
    "print(\"Percentage of People that DID NOT Upgraded: {:0.2f} %\".format(p_no_upgraded))"
   ]
  },
  {
   "cell_type": "markdown",
   "metadata": {},
   "source": [
    "We should check for outliers."
   ]
  },
  {
   "cell_type": "code",
   "execution_count": 16,
   "metadata": {
    "scrolled": true
   },
   "outputs": [
    {
     "name": "stderr",
     "output_type": "stream",
     "text": [
      "C:\\ProgramData\\Anaconda3\\lib\\site-packages\\sklearn\\utils\\validation.py:760: DataConversionWarning: A column-vector y was passed when a 1d array was expected. Please change the shape of y to (n_samples, ), for example using ravel().\n",
      "  y = column_or_1d(y, warn=True)\n",
      "C:\\ProgramData\\Anaconda3\\lib\\site-packages\\sklearn\\linear_model\\_logistic.py:940: ConvergenceWarning: lbfgs failed to converge (status=1):\n",
      "STOP: TOTAL NO. of ITERATIONS REACHED LIMIT.\n",
      "\n",
      "Increase the number of iterations (max_iter) or scale the data as shown in:\n",
      "    https://scikit-learn.org/stable/modules/preprocessing.html\n",
      "Please also refer to the documentation for alternative solver options:\n",
      "    https://scikit-learn.org/stable/modules/linear_model.html#logistic-regression\n",
      "  extra_warning_msg=_LOGISTIC_SOLVER_CONVERGENCE_MSG)\n"
     ]
    },
    {
     "data": {
      "text/plain": [
       "LogisticRegression(C=1.0, class_weight=None, dual=False, fit_intercept=True,\n",
       "                   intercept_scaling=1, l1_ratio=None, max_iter=100,\n",
       "                   multi_class='auto', n_jobs=None, penalty='l2',\n",
       "                   random_state=0, solver='lbfgs', tol=0.0001, verbose=0,\n",
       "                   warm_start=False)"
      ]
     },
     "execution_count": 16,
     "metadata": {},
     "output_type": "execute_result"
    }
   ],
   "source": [
    "from sklearn.linear_model import LogisticRegression\n",
    "classifier = LogisticRegression(random_state = 0)\n",
    "classifier.fit(X, y)"
   ]
  },
  {
   "cell_type": "code",
   "execution_count": 17,
   "metadata": {},
   "outputs": [
    {
     "name": "stdout",
     "output_type": "stream",
     "text": [
      "The sensitivity for this model is: 99.92 %\n",
      "The specificity for this model is: 52.69 %\n"
     ]
    }
   ],
   "source": [
    "y_pred = classifier.predict(X)\n",
    "\n",
    "from sklearn.metrics import confusion_matrix\n",
    "cm = confusion_matrix(y, y_pred)\n",
    "cm\n",
    "\n",
    "sens = cm[0][0] / (cm[0][0]+cm[0][1]) *100\n",
    "spec = cm[1][1] / (cm[1][1]+cm[1][0]) *100\n",
    "\n",
    "print(\"The sensitivity for this model is: {:0.2f} %\".format(sens))\n",
    "print(\"The specificity for this model is: {:0.2f} %\".format(spec))\n"
   ]
  },
  {
   "cell_type": "markdown",
   "metadata": {},
   "source": [
    "Already a pretty good answer. But we should look into the specificity"
   ]
  },
  {
   "cell_type": "code",
   "execution_count": 18,
   "metadata": {},
   "outputs": [],
   "source": [
    "from sklearn.preprocessing import StandardScaler\n",
    "sc = StandardScaler()\n",
    "X_scaled = sc.fit_transform(X)"
   ]
  },
  {
   "cell_type": "code",
   "execution_count": null,
   "metadata": {},
   "outputs": [],
   "source": []
  },
  {
   "cell_type": "markdown",
   "metadata": {},
   "source": [
    "Varianble selection using LASSO."
   ]
  },
  {
   "cell_type": "code",
   "execution_count": 19,
   "metadata": {},
   "outputs": [
    {
     "name": "stderr",
     "output_type": "stream",
     "text": [
      "C:\\ProgramData\\Anaconda3\\lib\\site-packages\\sklearn\\linear_model\\_coordinate_descent.py:1088: DataConversionWarning: A column-vector y was passed when a 1d array was expected. Please change the shape of y to (n_samples, ), for example using ravel().\n",
      "  y = column_or_1d(y, warn=True)\n"
     ]
    },
    {
     "name": "stdout",
     "output_type": "stream",
     "text": [
      "Best alpha using built-in LassoCV: 0.000010\n",
      "Best score using built-in LassoCV: -1058276.510690\n"
     ]
    },
    {
     "name": "stderr",
     "output_type": "stream",
     "text": [
      "C:\\ProgramData\\Anaconda3\\lib\\site-packages\\sklearn\\linear_model\\_coordinate_descent.py:476: ConvergenceWarning: Objective did not converge. You might want to increase the number of iterations. Duality gap: 0.03414239932155283, tolerance: 0.027645051093934208\n",
      "  positive)\n"
     ]
    }
   ],
   "source": [
    "from sklearn.linear_model import RidgeCV, LassoCV, ElasticNetCV\n",
    "reg = LassoCV(cv=10)\n",
    "reg.fit(X_scaled, y)\n",
    "print(\"Best alpha using built-in LassoCV: %f\" % reg.alpha_)\n",
    "print(\"Best score using built-in LassoCV: %f\" %reg.score(X,y))\n",
    "coef = pd.Series(reg.coef_, index = X.columns)"
   ]
  },
  {
   "cell_type": "code",
   "execution_count": 20,
   "metadata": {},
   "outputs": [
    {
     "name": "stdout",
     "output_type": "stream",
     "text": [
      "Lasso picked 9 variables and eliminated the other 0 variables\n"
     ]
    }
   ],
   "source": [
    "print(\"Lasso picked \" + str(sum(coef != 0)) + \" variables and eliminated the other \" +  str(sum(coef == 0)) + \" variables\")"
   ]
  },
  {
   "cell_type": "code",
   "execution_count": 21,
   "metadata": {},
   "outputs": [
    {
     "data": {
      "text/plain": [
       "Text(0.5, 1.0, 'Feature importance using Lasso Model')"
      ]
     },
     "execution_count": 21,
     "metadata": {},
     "output_type": "execute_result"
    },
    {
     "data": {
      "image/png": "[encoded data removed]",
      "text/plain": [
       "<Figure size 576x720 with 1 Axes>"
      ]
     },
     "metadata": {
      "needs_background": "light"
     },
     "output_type": "display_data"
    }
   ],
   "source": [
    "imp_coef = coef.sort_values()\n",
    "import matplotlib\n",
    "matplotlib.rcParams['figure.figsize'] = (8.0, 10.0)\n",
    "imp_coef.plot(kind = \"barh\")\n",
    "plt.title(\"Feature importance using Lasso Model\")"
   ]
  },
  {
   "cell_type": "code",
   "execution_count": null,
   "metadata": {},
   "outputs": [],
   "source": []
  },
  {
   "cell_type": "code",
   "execution_count": 32,
   "metadata": {},
   "outputs": [
    {
     "name": "stdout",
     "output_type": "stream",
     "text": [
      "Optimization terminated successfully.\n",
      "         Current function value: 0.049931\n",
      "         Iterations 9\n"
     ]
    },
    {
     "data": {
      "text/html": [
       "<table class=\"simpletable\">\n",
       "<caption>Logit Regression Results</caption>\n",
       "<tr>\n",
       "  <th>Dep. Variable:</th>      <td>is_upgrade</td>    <th>  No. Observations:  </th>  <td> 30532</td>  \n",
       "</tr>\n",
       "<tr>\n",
       "  <th>Model:</th>                 <td>Logit</td>      <th>  Df Residuals:      </th>  <td> 30529</td>  \n",
       "</tr>\n",
       "<tr>\n",
       "  <th>Method:</th>                 <td>MLE</td>       <th>  Df Model:          </th>  <td>     2</td>  \n",
       "</tr>\n",
       "<tr>\n",
       "  <th>Date:</th>            <td>Sun, 10 May 2020</td> <th>  Pseudo R-squ.:     </th>  <td>0.03982</td> \n",
       "</tr>\n",
       "<tr>\n",
       "  <th>Time:</th>                <td>20:48:32</td>     <th>  Log-Likelihood:    </th> <td> -1524.5</td> \n",
       "</tr>\n",
       "<tr>\n",
       "  <th>converged:</th>             <td>True</td>       <th>  LL-Null:           </th> <td> -1587.7</td> \n",
       "</tr>\n",
       "<tr>\n",
       "  <th>Covariance Type:</th>     <td>nonrobust</td>    <th>  LLR p-value:       </th> <td>3.500e-28</td>\n",
       "</tr>\n",
       "</table>\n",
       "<table class=\"simpletable\">\n",
       "<tr>\n",
       "      <td></td>         <th>coef</th>     <th>std err</th>      <th>z</th>      <th>P>|z|</th>  <th>[0.025</th>    <th>0.975]</th>  \n",
       "</tr>\n",
       "<tr>\n",
       "  <th>Intercept</th> <td>   -3.5827</td> <td>    0.108</td> <td>  -33.276</td> <td> 0.000</td> <td>   -3.794</td> <td>   -3.372</td>\n",
       "</tr>\n",
       "<tr>\n",
       "  <th>job_count</th> <td>    0.0010</td> <td>    0.000</td> <td>    5.465</td> <td> 0.000</td> <td>    0.001</td> <td>    0.001</td>\n",
       "</tr>\n",
       "<tr>\n",
       "  <th>days</th>      <td>   -0.1014</td> <td>    0.009</td> <td>  -10.853</td> <td> 0.000</td> <td>   -0.120</td> <td>   -0.083</td>\n",
       "</tr>\n",
       "</table>"
      ],
      "text/plain": [
       "<class 'statsmodels.iolib.summary.Summary'>\n",
       "\"\"\"\n",
       "                           Logit Regression Results                           \n",
       "==============================================================================\n",
       "Dep. Variable:             is_upgrade   No. Observations:                30532\n",
       "Model:                          Logit   Df Residuals:                    30529\n",
       "Method:                           MLE   Df Model:                            2\n",
       "Date:                Sun, 10 May 2020   Pseudo R-squ.:                 0.03982\n",
       "Time:                        20:48:32   Log-Likelihood:                -1524.5\n",
       "converged:                       True   LL-Null:                       -1587.7\n",
       "Covariance Type:            nonrobust   LLR p-value:                 3.500e-28\n",
       "==============================================================================\n",
       "                 coef    std err          z      P>|z|      [0.025      0.975]\n",
       "------------------------------------------------------------------------------\n",
       "Intercept     -3.5827      0.108    -33.276      0.000      -3.794      -3.372\n",
       "job_count      0.0010      0.000      5.465      0.000       0.001       0.001\n",
       "days          -0.1014      0.009    -10.853      0.000      -0.120      -0.083\n",
       "==============================================================================\n",
       "\"\"\""
      ]
     },
     "execution_count": 32,
     "metadata": {},
     "output_type": "execute_result"
    }
   ],
   "source": [
    "import statsmodels.formula.api as smf\n",
    "results = smf.logit(formula=\"is_upgrade ~ job_count + days \", data=newdf).fit()\n",
    "results.summary()\n",
    "\n"
   ]
  },
  {
   "cell_type": "code",
   "execution_count": 38,
   "metadata": {},
   "outputs": [
    {
     "name": "stdout",
     "output_type": "stream",
     "text": [
      "The sensitivity for this model is: 99.99 %\n",
      "The specificity for this model is: 0.00 %\n"
     ]
    },
    {
     "name": "stderr",
     "output_type": "stream",
     "text": [
      "C:\\ProgramData\\Anaconda3\\lib\\site-packages\\sklearn\\utils\\validation.py:760: DataConversionWarning: A column-vector y was passed when a 1d array was expected. Please change the shape of y to (n_samples, ), for example using ravel().\n",
      "  y = column_or_1d(y, warn=True)\n"
     ]
    }
   ],
   "source": [
    "newX = newdf[['job_count', 'manual_jobs','auto_jobs','days']]\n",
    "\n",
    "from sklearn.linear_model import LogisticRegression\n",
    "classifier = LogisticRegression(random_state = 0)\n",
    "classifier.fit(newX, y)\n",
    "\n",
    "y_pred = classifier.predict(newX)\n",
    "\n",
    "from sklearn.metrics import confusion_matrix\n",
    "cm = confusion_matrix(y, y_pred)\n",
    "cm\n",
    "\n",
    "sens = cm[0][0] / (cm[0][0]+cm[0][1]) *100\n",
    "spec = cm[1][1] / (cm[1][1]+cm[1][0]) *100\n",
    "\n",
    "print(\"The sensitivity for this model is: {:0.2f} %\".format(sens))\n",
    "print(\"The specificity for this model is: {:0.2f} %\".format(spec))"
   ]
  },
  {
   "cell_type": "markdown",
   "metadata": {},
   "source": [
    "PCA with LASSO"
   ]
  },
  {
   "cell_type": "code",
   "execution_count": 39,
   "metadata": {},
   "outputs": [
    {
     "data": {
      "text/plain": [
       "array([3.18481752e-01, 2.36238876e-01, 1.41065940e-01, 1.11230947e-01,\n",
       "       9.81722180e-02, 8.65662878e-02, 5.99251498e-03, 2.25146343e-03,\n",
       "       2.30313164e-33])"
      ]
     },
     "execution_count": 39,
     "metadata": {},
     "output_type": "execute_result"
    }
   ],
   "source": [
    "from sklearn.decomposition import PCA\n",
    "pca = PCA(n_components = None)\n",
    "X_PCA = pca.fit_transform(X_scaled)\n",
    "explained_variance = pca.explained_variance_ratio_\n",
    "explained_variance"
   ]
  },
  {
   "cell_type": "code",
   "execution_count": 42,
   "metadata": {},
   "outputs": [
    {
     "data": {
      "image/png": "[encoded data removed]",
      "text/plain": [
       "<Figure size 576x720 with 1 Axes>"
      ]
     },
     "metadata": {},
     "output_type": "display_data"
    }
   ],
   "source": [
    "#A fun way to plot using the xkcd format :)\n",
    "\n",
    "with plt.xkcd():\n",
    "    # Based on \"Stove Ownership\" from XKCD by Randall Munroe\n",
    "    # https://xkcd.com\n",
    "    fig = plt.figure()\n",
    "    ax = fig.add_axes((0, 0, 1, 0.5))\n",
    "    ax.spines['right'].set_color('none')\n",
    "    ax.spines['top'].set_color('none')\n",
    "    ax.set_xticks(list(range(1,len(explained_variance)+1)))\n",
    "\n",
    "    ax.annotate(\n",
    "        'Elbow',\n",
    "        xy=(4,explained_variance[3]), arrowprops=dict(arrowstyle='->'), xytext=(6, 0.2))\n",
    "    \n",
    "    ax.annotate(\n",
    "        'Elbow',\n",
    "        xy=(7,explained_variance[6]), arrowprops=dict(arrowstyle='->'), xytext=(6, 0.2))\n",
    "\n",
    "    ax.plot(list(range(1,len(explained_variance)+1)), explained_variance)\n",
    "\n",
    "    ax.set_title(\"PCA's and their explained variance\")\n",
    "    ax.set_xlabel('PCA')\n",
    "    ax.set_ylabel('Explained Varaince')\n"
   ]
  },
  {
   "cell_type": "markdown",
   "metadata": {},
   "source": [
    "We can try to take the first 4 or 7 PCA's to use"
   ]
  },
  {
   "cell_type": "code",
   "execution_count": null,
   "metadata": {},
   "outputs": [],
   "source": []
  }
 ],
 "metadata": {
  "kernelspec": {
   "display_name": "Python 3",
   "language": "python",
   "name": "python3"
  },
  "language_info": {
   "codemirror_mode": {
    "name": "ipython",
    "version": 3
   },
   "file_extension": ".py",
   "mimetype": "text/x-python",
   "name": "python",
   "nbconvert_exporter": "python",
   "pygments_lexer": "ipython3",
   "version": "3.7.1"
  }
 },
 "nbformat": 4,
 "nbformat_minor": 4
}
